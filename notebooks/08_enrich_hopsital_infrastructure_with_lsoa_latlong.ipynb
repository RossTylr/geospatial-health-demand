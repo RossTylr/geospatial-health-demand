{
 "cells": [
  {
   "metadata": {},
   "cell_type": "markdown",
   "source": [
    "# 08 Add LSOA Code and Postcode Centroids to NHS Facility CSVs\n",
    "\n",
    "This notebook enriches NHS facility datasets by assigning:\n",
    "- **LSOA 2021 codes (`lsoa21cd`)**\n",
    "- **Postcode centroid coordinates (`lat`, `long`)**\n",
    "\n",
    "Each facility is matched using its recorded postcode against the official ONS postcode lookup file.\n",
    "\n",
    "## Tasks:\n",
    "- Clean and standardise postcode fields\n",
    "- Merge each facility dataset with postcode lookup\n",
    "- Add `lsoa21cd`, `lat`, and `long` columns to each row\n",
    "- Save enriched outputs to a new subdirectory\n",
    "\n",
    "## Inputs:\n",
    "- NHS facility CSV files:\n",
    "  - Located in `data/processed/Health Infrastructure/`\n",
    "  - Files include:\n",
    "    - `NHS_SW_Community_Diagnostic_Centres.csv`\n",
    "    - `NHS_SW_GP_Practices_and_Polyclinics.csv`\n",
    "    - `NHS_SW_Acute_Hospitals.csv`\n",
    "    - `NHS_SW_Ambulance_Stations.csv`\n",
    "    - `NHS_SW_Community_and_Outreach_Facilities.csv`\n",
    "    - `NHS_SW_Community_Hospitals.csv`\n",
    "    - `NHS_SW_Specialist_Hospitals.csv`\n",
    "- Postcode lookup file:\n",
    "  - `data/raw/PCD_OA21_LSOA21_MSOA21_LAD_MAY24_UK_LU.csv`\n",
    "\n",
    "## Outputs:\n",
    "- Enriched CSVs with added `lsoa21cd`, `lat`, and `long` columns\n",
    "- Files saved to: `data/processed/Health Infrastructure/enriched/`\n",
    "- Optional: summary of matched and unmatched postcode counts per file\n"
   ],
   "id": "1c6bfe0a7110712b"
  },
  {
   "cell_type": "code",
   "id": "initial_id",
   "metadata": {
    "collapsed": true,
    "ExecuteTime": {
     "end_time": "2025-06-04T10:33:17.848007Z",
     "start_time": "2025-06-04T10:33:10.225670Z"
    }
   },
   "source": [
    "import pandas as pd\n",
    "from pathlib import Path\n",
    "\n",
    "# Set paths\n",
    "input_dir = Path(\"../data/processed/Health Infrastructure\")\n",
    "lookup_path = Path(\"../data/raw/PCD_OA21_LSOA21_MSOA21_LAD_MAY24_UK_LU.csv\")\n",
    "output_dir = input_dir / \"enriched\"\n",
    "output_dir.mkdir(exist_ok=True)\n",
    "# Load postcode-to-geography lookup with correct encoding\n",
    "lookup = pd.read_csv(lookup_path, dtype=str, encoding=\"latin1\")\n",
    "lookup[\"pcd_clean\"] = lookup[\"pcds\"].str.strip().str.upper().str.replace(\" \", \"\")\n",
    "\n",
    "# Select required columns\n",
    "lookup = lookup[[\"pcd_clean\", \"lsoa21cd\", \"msoa21cd\", \"ladcd\"]]\n",
    "\n",
    "# Confirm columns loaded\n",
    "print(\"Lookup file columns:\", lookup.columns.tolist())"
   ],
   "outputs": [
    {
     "name": "stdout",
     "output_type": "stream",
     "text": [
      "Lookup file columns: ['pcd_clean', 'lsoa21cd', 'msoa21cd', 'ladcd']\n"
     ]
    }
   ],
   "execution_count": 14
  },
  {
   "metadata": {
    "ExecuteTime": {
     "end_time": "2025-06-04T10:33:22.356017Z",
     "start_time": "2025-06-04T10:33:21.819479Z"
    }
   },
   "cell_type": "code",
   "source": [
    "# Preview files before enrichment\n",
    "summary_rows = []\n",
    "for file in sorted(input_dir.glob(\"*.csv\")):\n",
    "    try:\n",
    "        df = pd.read_csv(file, dtype=str, nrows=5)\n",
    "        summary_rows.append({\n",
    "            \"Filename\": file.name,\n",
    "            \"Preview Rows\": len(df),\n",
    "            \"Columns\": \", \".join(df.columns)\n",
    "        })\n",
    "    except Exception as e:\n",
    "        summary_rows.append({\n",
    "            \"Filename\": file.name,\n",
    "            \"Preview Rows\": \"ERROR\",\n",
    "            \"Columns\": f\"Error reading file: {e}\"\n",
    "        })\n",
    "\n",
    "summary_df = pd.DataFrame(summary_rows)\n",
    "display(summary_df)"
   ],
   "id": "f1317c22e7bbc846",
   "outputs": [
    {
     "data": {
      "text/plain": [
       "                                       Filename  Preview Rows  \\\n",
       "0      NHS_SW_ Community_Diagnostic_Centres.csv             5   \n",
       "1      NHS_SW_ GP_Practices_and_Polyclinics.csv             5   \n",
       "2                    NHS_SW_Acute_Hospitals.csv             5   \n",
       "3                 NHS_SW_Ambulance_Stations.csv             5   \n",
       "4                NHS_SW_Community_Hospitals.csv             5   \n",
       "5  NHS_SW_Community_and_Outreach_Facilities.csv             5   \n",
       "6               NHS_SW_Specialist_Hospitals.csv             5   \n",
       "\n",
       "                                             Columns  \n",
       "0  Code, Name, Address 1, Address 2, Address 3, A...  \n",
       "1  Code, Name, Address 1, Address 2, Address 3, A...  \n",
       "2  Code, Name, Address 1, Address 2, Address 3, A...  \n",
       "3  Code, Name, Address 1, Address 2, Address 3, A...  \n",
       "4  Code, Name, Address 1, Address 2, Address 3, A...  \n",
       "5  Community, Name, Address 1, Address 2, Address...  \n",
       "6  Code, Name, Address 1, Address 2, Address 3, A...  "
      ],
      "text/html": [
       "<div>\n",
       "<style scoped>\n",
       "    .dataframe tbody tr th:only-of-type {\n",
       "        vertical-align: middle;\n",
       "    }\n",
       "\n",
       "    .dataframe tbody tr th {\n",
       "        vertical-align: top;\n",
       "    }\n",
       "\n",
       "    .dataframe thead th {\n",
       "        text-align: right;\n",
       "    }\n",
       "</style>\n",
       "<table border=\"1\" class=\"dataframe\">\n",
       "  <thead>\n",
       "    <tr style=\"text-align: right;\">\n",
       "      <th></th>\n",
       "      <th>Filename</th>\n",
       "      <th>Preview Rows</th>\n",
       "      <th>Columns</th>\n",
       "    </tr>\n",
       "  </thead>\n",
       "  <tbody>\n",
       "    <tr>\n",
       "      <th>0</th>\n",
       "      <td>NHS_SW_ Community_Diagnostic_Centres.csv</td>\n",
       "      <td>5</td>\n",
       "      <td>Code, Name, Address 1, Address 2, Address 3, A...</td>\n",
       "    </tr>\n",
       "    <tr>\n",
       "      <th>1</th>\n",
       "      <td>NHS_SW_ GP_Practices_and_Polyclinics.csv</td>\n",
       "      <td>5</td>\n",
       "      <td>Code, Name, Address 1, Address 2, Address 3, A...</td>\n",
       "    </tr>\n",
       "    <tr>\n",
       "      <th>2</th>\n",
       "      <td>NHS_SW_Acute_Hospitals.csv</td>\n",
       "      <td>5</td>\n",
       "      <td>Code, Name, Address 1, Address 2, Address 3, A...</td>\n",
       "    </tr>\n",
       "    <tr>\n",
       "      <th>3</th>\n",
       "      <td>NHS_SW_Ambulance_Stations.csv</td>\n",
       "      <td>5</td>\n",
       "      <td>Code, Name, Address 1, Address 2, Address 3, A...</td>\n",
       "    </tr>\n",
       "    <tr>\n",
       "      <th>4</th>\n",
       "      <td>NHS_SW_Community_Hospitals.csv</td>\n",
       "      <td>5</td>\n",
       "      <td>Code, Name, Address 1, Address 2, Address 3, A...</td>\n",
       "    </tr>\n",
       "    <tr>\n",
       "      <th>5</th>\n",
       "      <td>NHS_SW_Community_and_Outreach_Facilities.csv</td>\n",
       "      <td>5</td>\n",
       "      <td>Community, Name, Address 1, Address 2, Address...</td>\n",
       "    </tr>\n",
       "    <tr>\n",
       "      <th>6</th>\n",
       "      <td>NHS_SW_Specialist_Hospitals.csv</td>\n",
       "      <td>5</td>\n",
       "      <td>Code, Name, Address 1, Address 2, Address 3, A...</td>\n",
       "    </tr>\n",
       "  </tbody>\n",
       "</table>\n",
       "</div>"
      ]
     },
     "metadata": {},
     "output_type": "display_data"
    }
   ],
   "execution_count": 15
  },
  {
   "metadata": {
    "ExecuteTime": {
     "end_time": "2025-06-04T10:33:38.200454Z",
     "start_time": "2025-06-04T10:33:32.045853Z"
    }
   },
   "cell_type": "code",
   "source": [
    "# Enrichment process\n",
    "for file in sorted(input_dir.glob(\"*.csv\")):\n",
    "    print(f\"\\nProcessing: {file.name}\")\n",
    "\n",
    "    try:\n",
    "        df = pd.read_csv(file, dtype=str)\n",
    "\n",
    "        if \"Postcode\" not in df.columns:\n",
    "            print(\"Expected column 'Postcode' not found — skipping.\")\n",
    "            continue\n",
    "\n",
    "        # Clean postcode\n",
    "        df[\"POSTCODE_CLEAN\"] = df[\"Postcode\"].astype(str).str.strip().str.upper().str.replace(\" \", \"\")\n",
    "\n",
    "        # Merge with lookup on postcode\n",
    "        merged = pd.merge(\n",
    "            df,\n",
    "            lookup,\n",
    "            left_on=\"POSTCODE_CLEAN\",\n",
    "            right_on=\"pcd_clean\",\n",
    "            how=\"left\"\n",
    "        )\n",
    "\n",
    "        # Match stats\n",
    "        total = len(merged)\n",
    "        matched = merged[\"lsoa21cd\"].notna().sum()\n",
    "        print(f\"Matched: {matched} / {total} ({matched / total:.1%})\")\n",
    "\n",
    "        # Save enriched file\n",
    "        output_file = output_dir / f\"{file.stem}_enriched.csv\"\n",
    "        merged.to_csv(output_file, index=False)\n",
    "        print(f\"Saved: {output_file.name}\")\n",
    "\n",
    "    except Exception as e:\n",
    "        print(f\"Error processing {file.name}: {e}\")"
   ],
   "id": "2cc0340bc9ea258b",
   "outputs": [
    {
     "name": "stdout",
     "output_type": "stream",
     "text": [
      "\n",
      "Processing: NHS_SW_ Community_Diagnostic_Centres.csv\n",
      "Matched: 24 / 24 (100.0%)\n",
      "Saved: NHS_SW_ Community_Diagnostic_Centres_enriched.csv\n",
      "\n",
      "Processing: NHS_SW_ GP_Practices_and_Polyclinics.csv\n",
      "Matched: 963 / 963 (100.0%)\n",
      "Saved: NHS_SW_ GP_Practices_and_Polyclinics_enriched.csv\n",
      "\n",
      "Processing: NHS_SW_Acute_Hospitals.csv\n",
      "Matched: 24 / 264 (9.1%)\n",
      "Saved: NHS_SW_Acute_Hospitals_enriched.csv\n",
      "\n",
      "Processing: NHS_SW_Ambulance_Stations.csv\n",
      "Matched: 87 / 87 (100.0%)\n",
      "Saved: NHS_SW_Ambulance_Stations_enriched.csv\n",
      "\n",
      "Processing: NHS_SW_Community_Hospitals.csv\n",
      "Matched: 92 / 92 (100.0%)\n",
      "Saved: NHS_SW_Community_Hospitals_enriched.csv\n",
      "\n",
      "Processing: NHS_SW_Community_and_Outreach_Facilities.csv\n",
      "Matched: 278 / 278 (100.0%)\n",
      "Saved: NHS_SW_Community_and_Outreach_Facilities_enriched.csv\n",
      "\n",
      "Processing: NHS_SW_Specialist_Hospitals.csv\n",
      "Matched: 23 / 23 (100.0%)\n",
      "Saved: NHS_SW_Specialist_Hospitals_enriched.csv\n"
     ]
    }
   ],
   "execution_count": 16
  }
 ],
 "metadata": {
  "kernelspec": {
   "display_name": "Python 3",
   "language": "python",
   "name": "python3"
  },
  "language_info": {
   "codemirror_mode": {
    "name": "ipython",
    "version": 2
   },
   "file_extension": ".py",
   "mimetype": "text/x-python",
   "name": "python",
   "nbconvert_exporter": "python",
   "pygments_lexer": "ipython2",
   "version": "2.7.6"
  }
 },
 "nbformat": 4,
 "nbformat_minor": 5
}
