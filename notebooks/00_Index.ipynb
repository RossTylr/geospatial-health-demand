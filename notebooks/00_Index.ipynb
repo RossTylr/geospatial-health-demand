{
 "cells": [
  {
   "metadata": {},
   "cell_type": "markdown",
   "source": [
    "# Geospatial Analysis Notebook Split: LSOA to ICB Export (South West)\n",
    "\n",
    "## Structure\n",
    "\n",
    "1. **01_Data_Preparation_LSOA_SW.ipynb**\n",
    "   - Heavy processing: Load national LSOA shapefile, clip to NHS South West, save to `.gpkg`.\n",
    "2. **02_Deprivation_Demographics_Analysis_SW.ipynb**\n",
    "   - Add IMD, LAD, and Rural/Urban Classification; exploratory analysis; save enriched `.gpkg`.\n",
    "3. **03_Health_Geography_ICB_Export_SW.ipynb**\n",
    "   - Integrate ICB/SICBL lookups, analyze/export per ICB.\n",
    "\n",
    "## Data Flow\n",
    "\n",
    "- Use `.gpkg` for spatial handoff, CSV for tabular.\n",
    "- Keep each notebook independently runnable.\n",
    "- Use clear file/directory naming, e.g.:\n",
    "  - `../data/raw/`, `../data/processed/`\n",
    "  - Outputs: `lsoa_south_west.gpkg`, `lsoa_sw_enriched_demographics.gpkg`, `icb_split_exports/`\n",
    "\n",
    "## (Optional) Fourth Notebook\n",
    "- If your exported files get huge or you want a dedicated “Visualization/Reporting” step, use a 04th notebook for this.\n"
   ],
   "id": "9d94fe2bab0502c7"
  }
 ],
 "metadata": {
  "kernelspec": {
   "display_name": "Python 3",
   "language": "python",
   "name": "python3"
  },
  "language_info": {
   "codemirror_mode": {
    "name": "ipython",
    "version": 2
   },
   "file_extension": ".py",
   "mimetype": "text/x-python",
   "name": "python",
   "nbconvert_exporter": "python",
   "pygments_lexer": "ipython2",
   "version": "2.7.6"
  }
 },
 "nbformat": 4,
 "nbformat_minor": 5
}
