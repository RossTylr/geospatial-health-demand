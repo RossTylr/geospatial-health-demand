{
 "cells": [
  {
   "cell_type": "markdown",
   "id": "c81d9948",
   "metadata": {},
   "source": [
    "# 09 Geographic Proximity Dendrogram\n",
    "\n",
    "This notebook maps each acute hospital in the **NHS South West** region to its closest Community Diagnostic Centre (CDC) and community hospital. The results are visualised as a dendrogram structured by Integrated Care Board (ICB).\n"
   ]
  },
  {
   "cell_type": "markdown",
   "id": "dd8dacca",
   "metadata": {},
   "source": [
    "## Load health infrastructure data\n",
    "\n",
    "The input CSV files come from `data/processed/Health Infrastructure/enriched` and already contain latitude/longitude coordinates and ICB codes."
   ]
  },
  {
   "cell_type": "code",
   "execution_count": null,
   "id": "4b796527",
   "metadata": {},
   "outputs": [],
   "source": [
    "import pandas as pd\n",
    "import geopandas as gpd\n",
    "import networkx as nx\n",
    "from pyvis.network import Network\n"
   ]
  },
  {
   "cell_type": "code",
   "execution_count": null,
   "id": "b0aaef76",
   "metadata": {},
   "outputs": [],
   "source": [
    "acute_path = 'data/processed/Health Infrastructure/enriched/NHS_SW_Acute_Hospitals_enriched.csv'\n",
    "cdc_path = 'data/processed/Health Infrastructure/enriched/NHS_SW_ Community_Diagnostic_Centres_enriched.csv'\n",
    "comm_path = 'data/processed/Health Infrastructure/enriched/NHS_SW_Community_Hospitals_enriched.csv'\n",
    "\n",
    "acute = pd.read_csv(acute_path)\n",
    "cdc = pd.read_csv(cdc_path)\n",
    "comm = pd.read_csv(comm_path)\n"
   ]
  },
  {
   "cell_type": "code",
   "execution_count": null,
   "id": "cd9e7f94",
   "metadata": {},
   "outputs": [],
   "source": [
    "# convert to GeoDataFrames in British National Grid for distance calculation\n",
    "acute_gdf = gpd.GeoDataFrame(\n",
    "    acute,\n",
    "    geometry=gpd.points_from_xy(acute.longitude, acute.latitude),\n",
    "    crs='EPSG:4326'\n",
    ").to_crs(27700)\n",
    "cdc_gdf = gpd.GeoDataFrame(\n",
    "    cdc,\n",
    "    geometry=gpd.points_from_xy(cdc.longitude, cdc.latitude),\n",
    "    crs='EPSG:4326'\n",
    ").to_crs(27700)\n",
    "comm_gdf = gpd.GeoDataFrame(\n",
    "    comm,\n",
    "    geometry=gpd.points_from_xy(comm.longitude, comm.latitude),\n",
    "    crs='EPSG:4326'\n",
    ").to_crs(27700)\n"
   ]
  },
  {
   "cell_type": "code",
   "execution_count": null,
   "id": "e4075382",
   "metadata": {},
   "outputs": [],
   "source": [
    "# find nearest CDC and community hospital for each acute site\n",
    "out_cdc = gpd.sjoin_nearest(\n",
    "    acute_gdf[['Code','Name','Parent Organisation Name','geometry']],\n",
    "    cdc_gdf[['Code','Name','geometry']],\n",
    "    how='left',\n",
    "    distance_col='dist_cdc'\n",
    ")\n",
    "nearest_cdc = out_cdc.sort_values('dist_cdc').drop_duplicates('Code_left')\n",
    "\n",
    "out_comm = gpd.sjoin_nearest(\n",
    "    acute_gdf[['Code','Name','Parent Organisation Name','geometry']],\n",
    "    comm_gdf[['Code','Name','geometry']],\n",
    "    how='left',\n",
    "    distance_col='dist_comm'\n",
    ")\n",
    "nearest_comm = out_comm.sort_values('dist_comm').drop_duplicates('Code_left')\n",
    "\n",
    "summary = pd.DataFrame({\n",
    "    'ICB': nearest_cdc['Parent Organisation Name'],\n",
    "    'Acute Hospital': nearest_cdc['Name_left'],\n",
    "    'Nearest CDC': nearest_cdc['Name_right'],\n",
    "    'Nearest Community Hospital': nearest_comm.set_index('Code_left').loc[nearest_cdc['Code_left'], 'Name_right'].values\n",
    "})\n",
    "summary.head()\n"
   ]
  },
  {
   "cell_type": "markdown",
   "id": "8000240c",
   "metadata": {},
   "source": [
    "## Build dendrogram\n",
    "\n",
    "A directed tree is created using NetworkX and visualised with pyvis."
   ]
  },
  {
   "cell_type": "code",
   "execution_count": null,
   "id": "64d0b6a8",
   "metadata": {},
   "outputs": [],
   "source": [
    "G = nx.DiGraph()\n",
    "root = 'NHS South West'\n",
    "G.add_node(root)\n",
    "for _, row in summary.iterrows():\n",
    "    icb = row['ICB']\n",
    "    G.add_edge(root, icb)\n",
    "    G.add_edge(icb, row['Acute Hospital'])\n",
    "    G.add_edge(row['Acute Hospital'], f\"CDC: {row['Nearest CDC']}\")\n",
    "    G.add_edge(row['Acute Hospital'], f\"Community: {row['Nearest Community Hospital']}\")\n",
    "\n",
    "net = Network(height='700px', width='100%', directed=True)\n",
    "net.from_nx(G)\n",
    "net.show('graph.html')\n"
   ]
  }
 ],
 "metadata": {},
 "nbformat": 4,
 "nbformat_minor": 5
}
