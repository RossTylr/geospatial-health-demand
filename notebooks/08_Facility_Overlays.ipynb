{
 "cells": [
  {
   "cell_type": "markdown",
   "id": "a40cacab",
   "metadata": {},
   "source": [
    "# 08_Facility_Overlays\n",
    "\n",
    "This notebook overlays each type of health facility on the Rural/Urban classification map of LSOAs in the South West."
   ]
  },
  {
   "cell_type": "code",
   "execution_count": null,
   "id": "84f4d05c",
   "metadata": {},
   "outputs": [],
   "source": [
    "import os\n",
    "import pandas as pd\n",
    "import geopandas as gpd\n",
    "import matplotlib.pyplot as plt\n",
    "import matplotlib.patches as mpatches\n",
    "from shapely.geometry import Point\n",
    "\n",
    "PROCESSED_DIR = os.path.join('data','processed')\n",
    "FACILITY_DIR = os.path.join(PROCESSED_DIR,'Health Infrastructure','enriched')\n",
    "LSOA_GPKG = os.path.join(PROCESSED_DIR,'lsoa_sw_enriched_demographics.gpkg')\n",
    "\n",
    "lsoa_sw_gdf = gpd.read_file(LSOA_GPKG)\n"
   ]
  },
  {
   "cell_type": "code",
   "execution_count": null,
   "id": "e69d204f",
   "metadata": {},
   "outputs": [],
   "source": [
    "ruc_palette = {\n",
    "    'Urban: Nearer to a major town or city': '#377eb8',\n",
    "    'Urban: Further from a major town or city': '#4daf4a',\n",
    "    'Smaller rural: Nearer to a major town or city': '#984ea3',\n",
    "    'Smaller rural: Further from a major town or city': '#ff7f00',\n",
    "    'Larger rural: Nearer to a major town or city': '#e41a1c',\n",
    "    'Larger rural: Further from a major town or city': '#ffff33',\n",
    "}\n",
    "print(lsoa_sw_gdf['RUC21NM'].value_counts())\n"
   ]
  },
  {
   "cell_type": "code",
   "execution_count": null,
   "id": "e0eb01f9",
   "metadata": {},
   "outputs": [],
   "source": [
    "facility_files = [\n",
    "    ('Community Diagnostic Centres','NHS_SW_ Community_Diagnostic_Centres_enriched.csv'),\n",
    "    ('GP Practices and Polyclinics','NHS_SW_ GP_Practices_and_Polyclinics_enriched.csv'),\n",
    "    ('Acute Hospitals','NHS_SW_Acute_Hospitals_enriched.csv'),\n",
    "    ('Ambulance Stations','NHS_SW_Ambulance_Stations_enriched.csv'),\n",
    "    ('Community Hospitals','NHS_SW_Community_Hospitals_enriched.csv'),\n",
    "    ('Community and Outreach Facilities','NHS_SW_Community_and_Outreach_Facilities_enriched.csv'),\n",
    "    ('Specialist Hospitals','NHS_SW_Specialist_Hospitals_enriched.csv'),\n",
    "]\n",
    "for label, fname in facility_files:\n",
    "    df = pd.read_csv(os.path.join(FACILITY_DIR, fname))\n",
    "    gdf = gpd.GeoDataFrame(df, geometry=gpd.points_from_xy(df['longitude'], df['latitude']), crs='EPSG:4326')\n",
    "    gdf = gdf.to_crs(lsoa_sw_gdf.crs)\n",
    "\n",
    "    fig, ax = plt.subplots(figsize=(11,8))\n",
    "    lsoa_sw_gdf.plot(column='RUC21NM', ax=ax,\n",
    "                     color=lsoa_sw_gdf['RUC21NM'].map(ruc_palette),\n",
    "                     edgecolor='grey', linewidth=0.2, legend=False)\n",
    "    gdf.plot(ax=ax, markersize=12, color='black', marker='o', label=label)\n",
    "    legend_patches = [mpatches.Patch(color=c, label=l) for l,c in ruc_palette.items()]\n",
    "    handles = legend_patches + [plt.Line2D([0],[0], marker='o', color='black', linestyle='', label=label)]\n",
    "    ax.legend(handles=handles, title='RUC21NM', loc='lower left', fontsize=8, title_fontsize=9, frameon=True)\n",
    "    ax.set_title(f'{label} over Rural/Urban Classification')\n",
    "    ax.axis('off')\n",
    "    plt.tight_layout()\n",
    "    plt.show()\n"
   ]
  }
 ],
 "metadata": {},
 "nbformat": 4,
 "nbformat_minor": 5
}
