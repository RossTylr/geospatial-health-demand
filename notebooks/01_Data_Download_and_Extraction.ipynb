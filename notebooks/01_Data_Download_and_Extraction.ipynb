{
 "cells": [
  {
   "metadata": {},
   "cell_type": "markdown",
   "source": [
    "# 00_Data_Download_and_Extraction\n",
    "\n",
    "This notebook ensures all required geospatial raw data is downloaded and extracted for the NHS South West project.\n",
    "\n",
    "- Downloads the national LSOA 2021 shapefile (from Google Drive if needed)\n",
    "- Extracts the shapefile\n",
    "- Verifies NHS England Regions 2023 shapefile is present\n",
    "- Loads and previews the South West boundary and LSOA data\n",
    "\n",
    "_Outputs are used by all downstream notebooks. Run this notebook before any others if setting up on a new machine or after cleaning the `data/raw/` directory._\n"
   ],
   "id": "35fea7b22ac0ffbf"
  },
  {
   "metadata": {
    "ExecuteTime": {
     "end_time": "2025-05-30T09:24:32.945068Z",
     "start_time": "2025-05-30T09:24:29.576058Z"
    }
   },
   "cell_type": "code",
   "source": [
    "import os\n",
    "import gdown\n",
    "import zipfile\n",
    "import geopandas as gpd\n",
    "\n",
    "# ----------------------------------------\n",
    "# CONFIGURATION\n",
    "# ----------------------------------------\n",
    "BASE_DIR = \"/Users/rosstaylor/Downloads/Research Project/Code Folder/Research Project - Geospatial Health Demand\"\n",
    "DATA_DIR = os.path.join(BASE_DIR, \"data\", \"raw\")\n",
    "\n",
    "# LSOA Shapefile Paths\n",
    "FILE_ID = \"14FHvLwE8_KH747ngdJWAH_v58Zmi2G8Y\"  # Google Drive file ID\n",
    "ZIP_PATH = os.path.join(DATA_DIR, \"Lower_Layer_LSOA_2021.zip\")\n",
    "EXTRACT_DIR = os.path.join(DATA_DIR, \"lsoa_shapefile\")\n",
    "SHP_FILENAME = \"Lower_layer_Super_Output_Areas_(December_2021)_Boundaries_EW_BFC_(V10).shp\"\n",
    "LSOA_PATH = os.path.join(EXTRACT_DIR, SHP_FILENAME)\n",
    "\n",
    "# NHS England Regions Shapefile Path\n",
    "NHS_SHAPEFILE_PATH = os.path.join(DATA_DIR, \"NHS_England_Regions_December_2023\", \"NHSER_DEC_2023_EN_BFC.shp\")\n",
    "\n",
    "\n",
    "# ----------------------------------------\n",
    "# FUNCTION: DOWNLOAD ZIP IF NEEDED\n",
    "# ----------------------------------------\n",
    "def download_zip_if_needed():\n",
    "    if not os.path.exists(ZIP_PATH):\n",
    "        os.makedirs(os.path.dirname(ZIP_PATH), exist_ok=True)\n",
    "        url = f\"https://drive.google.com/uc?id={FILE_ID}\"\n",
    "        print(f\"Downloading LSOA shapefile zip from: {url}\")\n",
    "        gdown.download(url, ZIP_PATH, quiet=False)\n",
    "    else:\n",
    "        print(\"Zip file already exists — skipping download.\")\n",
    "\n",
    "# ----------------------------------------\n",
    "# FUNCTION: EXTRACT ZIP IF NEEDED\n",
    "# ----------------------------------------\n",
    "def extract_zip():\n",
    "    if not os.path.exists(EXTRACT_DIR):\n",
    "        print(\"Extracting LSOA shapefile zip...\")\n",
    "        with zipfile.ZipFile(ZIP_PATH, 'r') as zip_ref:\n",
    "            zip_ref.extractall(EXTRACT_DIR)\n",
    "    else:\n",
    "        print(\"Shapefile already extracted — skipping.\")\n",
    "\n",
    "# ----------------------------------------\n",
    "# FUNCTION: LOAD LSOA SHAPEFILE\n",
    "# ----------------------------------------\n",
    "def load_lsoa_shapefile():\n",
    "    if not os.path.exists(LSOA_PATH):\n",
    "        raise FileNotFoundError(f\"LSOA shapefile not found at: {LSOA_PATH}\")\n",
    "    lsoa_gdf = gpd.read_file(LSOA_PATH)\n",
    "    lsoa_gdf = lsoa_gdf[lsoa_gdf.is_valid]\n",
    "    print(f\"Loaded {len(lsoa_gdf)} valid LSOA polygons.\")\n",
    "    return lsoa_gdf\n",
    "\n",
    "# ----------------------------------------\n",
    "# FUNCTION: LOAD NHS REGIONS AND FILTER SOUTH WEST\n",
    "# ----------------------------------------\n",
    "def load_nhs_sw_region():\n",
    "    if not os.path.exists(NHS_SHAPEFILE_PATH):\n",
    "        raise FileNotFoundError(f\"NHS regions shapefile not found at: {NHS_SHAPEFILE_PATH}\")\n",
    "    nhs_gdf = gpd.read_file(NHS_SHAPEFILE_PATH)\n",
    "    sw_region = nhs_gdf[nhs_gdf[\"NHSER23NM\"] == \"South West\"]\n",
    "    print(f\"Loaded {len(sw_region)} region(s) for NHS South West.\")\n",
    "    print(sw_region[['NHSER23CD', 'NHSER23NM']].drop_duplicates())\n",
    "    return sw_region\n",
    "\n",
    "# ----------------------------------------\n",
    "# RUN ALL STEPS\n",
    "# ----------------------------------------\n",
    "download_zip_if_needed()\n",
    "extract_zip()\n",
    "lsoa_gdf = load_lsoa_shapefile()\n",
    "sw_region = load_nhs_sw_region()\n"
   ],
   "id": "19d9487c48b75e6d",
   "outputs": [
    {
     "name": "stdout",
     "output_type": "stream",
     "text": [
      "Zip file already exists — skipping download.\n",
      "Shapefile already extracted — skipping.\n",
      "Loaded 35666 valid LSOA polygons.\n",
      "Loaded 1 region(s) for NHS South West.\n",
      "   NHSER23CD   NHSER23NM\n",
      "2  E40000006  South West\n"
     ]
    }
   ],
   "execution_count": 6
  }
 ],
 "metadata": {
  "kernelspec": {
   "display_name": "Python 3",
   "language": "python",
   "name": "python3"
  },
  "language_info": {
   "codemirror_mode": {
    "name": "ipython",
    "version": 2
   },
   "file_extension": ".py",
   "mimetype": "text/x-python",
   "name": "python",
   "nbconvert_exporter": "python",
   "pygments_lexer": "ipython2",
   "version": "2.7.6"
  }
 },
 "nbformat": 4,
 "nbformat_minor": 5
}
