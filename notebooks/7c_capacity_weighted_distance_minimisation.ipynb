{
 "cells": [
  {
   "cell_type": "markdown",
   "id": "c1f3497b",
   "metadata": {},
   "source": [
    "# 7c – Capacity‑weighted distance minimisation\n",
    "\n",
    "Minimise **Σ distance ÷ capacity** to balance geographic proximity with hospital size.  \n",
    "Solved as a *linear‑assignment* problem (Hungarian algorithm)."
   ]
  },
  {
   "cell_type": "code",
   "execution_count": null,
   "id": "e460c63e",
   "metadata": {},
   "outputs": [],
   "source": [
    "\n",
    "import math, numpy as np, pandas as pd\n",
    "from scipy.optimize import linear_sum_assignment\n",
    "from pathlib import Path\n",
    "\n",
    "DATA_DIR = Path('.')\n",
    "ACUTE_CSV = DATA_DIR / 'NHS_SW_Acute_Hospitals_enriched.csv'\n",
    "CDC_CSV   = DATA_DIR / 'NHS_SW_Community_Diagnostic_Centres_enriched.csv'\n",
    "CH_CSV    = DATA_DIR / 'NHS_SW_Community_Hospitals_enriched.csv'\n",
    "\n",
    "acute = pd.read_csv(ACUTE_CSV)\n",
    "cdc   = pd.read_csv(CDC_CSV)\n",
    "ch    = pd.read_csv(CH_CSV)\n",
    "\n",
    "# Ensure there is a 'capacity' column in the acute table\n",
    "if 'capacity' not in acute.columns:\n",
    "    acute['capacity'] = 1  # placeholder, set equal if unknown\n",
    "\n",
    "R_EARTH = 6_371.0  # km\n",
    "def haversine(lat1, lon1, lat2, lon2):\n",
    "    φ1, λ1, φ2, λ2 = map(math.radians, (lat1, lon1, lat2, lon2))\n",
    "    dφ, dλ = φ2 - φ1, λ2 - λ1\n",
    "    a = math.sin(dφ/2)**2 + math.cos(φ1)*math.cos(φ2)*math.sin(dλ/2)**2\n",
    "    return 2 * R_EARTH * math.atan2(math.sqrt(a), math.sqrt(1 - a))\n",
    "\n",
    "spokes = pd.concat([cdc, ch], ignore_index=True)\n",
    "\n",
    "cost = np.zeros((len(spokes), len(acute)))\n",
    "for i, spk in spokes.iterrows():\n",
    "    for j, hub in acute.iterrows():\n",
    "        cost[i, j] = haversine(spk.latitude, spk.longitude,\n",
    "                               hub.latitude, hub.longitude) / hub.capacity\n",
    "\n",
    "row_ind, col_ind = linear_sum_assignment(cost)\n",
    "\n",
    "spokes['nearest_acute'] = acute.loc[col_ind, 'Name'].values\n",
    "spokes['weighted_dist'] = cost[row_ind, col_ind]\n",
    "\n",
    "spokes.head()\n"
   ]
  }
 ],
 "metadata": {},
 "nbformat": 4,
 "nbformat_minor": 5
}
