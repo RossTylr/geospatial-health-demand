{
 "cells": [
  {
   "metadata": {
    "ExecuteTime": {
     "end_time": "2025-06-18T13:55:53.609803Z",
     "start_time": "2025-06-18T13:55:53.151838Z"
    }
   },
   "cell_type": "code",
   "source": [
    "import geopandas as gpd\n",
    "import pandas as pd\n",
    "from pathlib import Path\n",
    "\n",
    "# ------------------------------------------------------------------\n",
    "# 1. Load the South-West LSOA layer (Bri­tish National Grid, EPSG:27700)\n",
    "# ------------------------------------------------------------------\n",
    "BASE = Path(\n",
    "    \"/Users/rosstaylor/Downloads/Research Project/Code Folder/\"\n",
    "    \"Research Project - Geospatial Health Demand/data/processed/\"\n",
    "    \"lsoa_sw_enriched_demographics_enriched.gpkg\"\n",
    ")\n",
    "lsoa_sw = gpd.read_file(BASE)          # (3475, 21), EPSG:27700"
   ],
   "id": "ae4cad609ac73a76",
   "outputs": [],
   "execution_count": 30
  },
  {
   "metadata": {
    "ExecuteTime": {
     "end_time": "2025-06-18T13:56:18.197081Z",
     "start_time": "2025-06-18T13:56:18.170152Z"
    }
   },
   "cell_type": "code",
   "source": [
    "\n",
    "# ------------------------------------------------------------------\n",
    "# 2. One-shot field clean-up\n",
    "#    • keep only one human-readable LSOA name\n",
    "#    • rename everything to canonical snake_case\n",
    "# ------------------------------------------------------------------\n",
    "# mapping from raw -> tidy\n",
    "RENAME = {\n",
    "    \"lsoa21cd\":  \"lsoa\",\n",
    "    \"lsoa21nm_x\": \"lsoa_name\",\n",
    "    \"lsoa21nmw\":  \"lsoa_name\",\n",
    "    \"lsoa21nm_y\": \"lsoa_name\",\n",
    "    \"msoa21cd\":  \"msoa\",\n",
    "    \"msoa21nm\":  \"msoa_name\",\n",
    "    \"lad22cd\":   \"lad\",\n",
    "    \"ladcd\":     \"lad\",          # keep whichever exists\n",
    "    \"lad22nm\":   \"lad_name\",\n",
    "    \"ladnm\":     \"lad_name\",\n",
    "    \"ruc21nm\":   \"urban_rural\",\n",
    "    \"urban_rural_flag\": \"urban_rural\",\n",
    "    \"imd_rank\":  \"imd_rank\",\n",
    "    \"bng_e\":     \"bng_e\",\n",
    "    \"bng_n\":     \"bng_n\",\n",
    "    \"lat\":       \"lat\",\n",
    "    \"long\":      \"lon\",          # rename to lon for clarity\n",
    "    \"shape__are\":\"shape_area\",\n",
    "    \"shape__len\":\"shape_len\",\n",
    "    \"globalid\":  \"global_id\",\n",
    "}\n",
    "\n",
    "# lowercase all columns for easier matching\n",
    "lsoa_sw.columns = [c.lower() for c in lsoa_sw.columns]\n",
    "\n",
    "# perform renaming (duplicates automatically collapsed)\n",
    "lsoa_sw = lsoa_sw.rename(columns=RENAME)\n",
    "\n",
    "# after renaming, drop duplicate columns keeping the first\n",
    "lsoa_sw = lsoa_sw.loc[:, ~lsoa_sw.columns.duplicated()]\n"
   ],
   "id": "e57a08cc10abc6dc",
   "outputs": [],
   "execution_count": 31
  },
  {
   "metadata": {
    "ExecuteTime": {
     "end_time": "2025-06-18T13:56:30.293330Z",
     "start_time": "2025-06-18T13:56:28.304535Z"
    }
   },
   "cell_type": "code",
   "source": [
    "# ------------------------------------------------------------------\n",
    "# 3. Re-project to EPSG:4326 for web mapping\n",
    "# ------------------------------------------------------------------\n",
    "lsoa_sw_wgs = lsoa_sw.to_crs(4326)"
   ],
   "id": "3aff815fa691d31c",
   "outputs": [],
   "execution_count": 32
  },
  {
   "metadata": {
    "ExecuteTime": {
     "end_time": "2025-06-18T13:56:47.594475Z",
     "start_time": "2025-06-18T13:56:37.651523Z"
    }
   },
   "cell_type": "code",
   "source": [
    "# ------------------------------------------------------------------\n",
    "# 4. Build MSOA & LAD layers by dissolving geometry\n",
    "# ------------------------------------------------------------------\n",
    "msoa_sw = (\n",
    "    lsoa_sw_wgs\n",
    "    .dissolve(by=\"msoa\", as_index=False, aggfunc=\"first\")\n",
    "    .sort_values(\"msoa\")\n",
    ")\n",
    "\n",
    "lad_sw = (\n",
    "    lsoa_sw_wgs\n",
    "    .dissolve(by=\"lad\", as_index=False, aggfunc=\"first\")\n",
    "    .sort_values(\"lad\")\n",
    ")\n"
   ],
   "id": "25b562d7b85bd4db",
   "outputs": [],
   "execution_count": 33
  },
  {
   "metadata": {
    "ExecuteTime": {
     "end_time": "2025-06-18T13:56:55.085315Z",
     "start_time": "2025-06-18T13:56:55.075843Z"
    }
   },
   "cell_type": "code",
   "source": [
    "# ------------------------------------------------------------------\n",
    "# 5. Quick print-outs so you know it worked\n",
    "# ------------------------------------------------------------------\n",
    "print(\"LSOA layer :\", lsoa_sw_wgs.shape)\n",
    "print(\"MSOA layer :\", msoa_sw.shape)\n",
    "print(\"LAD layer  :\", lad_sw.shape)"
   ],
   "id": "e9452e742c416385",
   "outputs": [
    {
     "name": "stdout",
     "output_type": "stream",
     "text": [
      "LSOA layer : (3475, 16)\n",
      "MSOA layer : (742, 16)\n",
      "LAD layer  : (40, 16)\n"
     ]
    }
   ],
   "execution_count": 34
  },
  {
   "metadata": {
    "ExecuteTime": {
     "end_time": "2025-06-18T13:57:22.896527Z",
     "start_time": "2025-06-18T13:57:21.696342Z"
    }
   },
   "cell_type": "code",
   "source": [
    "# ------------------------------------------------------------------\n",
    "# 6. (Optional) save everything to one GeoPackage\n",
    "# ------------------------------------------------------------------\n",
    "OUT = BASE.with_name(\"sw_ready_layers.gpkg\")\n",
    "lsoa_sw.to_file(OUT, layer=\"lsoa_bng\",  driver=\"GPKG\")   # original CRS\n",
    "lsoa_sw_wgs.to_file(OUT, layer=\"lsoa_wgs84\", driver=\"GPKG\")\n",
    "msoa_sw.to_file(OUT,   layer=\"msoa_wgs84\", driver=\"GPKG\")\n",
    "lad_sw.to_file(OUT,    layer=\"lad_wgs84\",  driver=\"GPKG\")\n",
    "print(\"✓ All layers saved to\", OUT)"
   ],
   "id": "6ede274f090372b8",
   "outputs": [
    {
     "name": "stdout",
     "output_type": "stream",
     "text": [
      "✓ All layers saved to /Users/rosstaylor/Downloads/Research Project/Code Folder/Research Project - Geospatial Health Demand/data/processed/sw_ready_layers.gpkg\n"
     ]
    }
   ],
   "execution_count": 35
  }
 ],
 "metadata": {
  "kernelspec": {
   "display_name": "Python 3",
   "language": "python",
   "name": "python3"
  },
  "language_info": {
   "codemirror_mode": {
    "name": "ipython",
    "version": 2
   },
   "file_extension": ".py",
   "mimetype": "text/x-python",
   "name": "python",
   "nbconvert_exporter": "python",
   "pygments_lexer": "ipython2",
   "version": "2.7.6"
  }
 },
 "nbformat": 4,
 "nbformat_minor": 5
}
