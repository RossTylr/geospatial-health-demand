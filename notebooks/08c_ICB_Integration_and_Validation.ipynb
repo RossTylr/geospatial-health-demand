{
 "cells": [
  {
   "cell_type": "code",
   "execution_count": null,
   "id": "initial_id",
   "metadata": {
    "collapsed": true
   },
   "outputs": [],
   "source": [
    ""
   ]
  },
  {
   "metadata": {
    "ExecuteTime": {
     "end_time": "2025-06-18T14:53:27.550797Z",
     "start_time": "2025-06-18T14:53:27.545504Z"
    }
   },
   "cell_type": "code",
   "source": [
    "# --------------------------------------------------------------------\n",
    "# 1. SETUP AND CONFIGURATION\n",
    "# --------------------------------------------------------------------\n",
    "import geopandas as gpd\n",
    "import pandas as pd\n",
    "from pathlib import Path\n",
    "import glob\n",
    "\n",
    "print(\"Starting ICB Integration and Validation Process...\")"
   ],
   "id": "2f14f3bea8b5e9ed",
   "outputs": [
    {
     "name": "stdout",
     "output_type": "stream",
     "text": [
      "Starting ICB Integration and Validation Process...\n"
     ]
    }
   ],
   "execution_count": 11
  },
  {
   "metadata": {
    "ExecuteTime": {
     "end_time": "2025-06-18T14:53:55.589472Z",
     "start_time": "2025-06-18T14:53:55.583163Z"
    }
   },
   "cell_type": "code",
   "source": [
    "# --- Configuration ---\n",
    "\n",
    "# Define the target Coordinate Reference System (CRS) for the final output\n",
    "TARGET_CRS = \"EPSG:4326\"\n",
    "\n",
    "# Define the path where the raw ICB source files are located.\n",
    "# This should point to the directory containing your seven source files.\n",
    "RAW_DATA_DIR = Path(\"/Users/rosstaylor/Downloads/Research Project/Code Folder/Research Project - Geospatial Health Demand/data/processed/icb_split_enriched/audit_outputs\")\n",
    "\n",
    "# Define the canonical column name mapping for attribute harmonisation\n",
    "RENAME_COLS = {\n",
    "    \"lsoa21cd\":  \"lsoa\",\n",
    "    \"lsoa21nm\": \"lsoa_name\",\n",
    "    \"msoa21cd\":  \"msoa\",\n",
    "    \"msoa21nm\":  \"msoa_name\",\n",
    "    \"lad22cd\":   \"lad\",\n",
    "    \"lad22nm\":   \"lad_name\",\n",
    "    \"ruc21nm\":   \"urban_rural\",\n",
    "    \"imd_rank\":  \"imd_rank\",\n",
    "}\n",
    "\n",
    "\n",
    "# Define the output directory for the final processed files.\n",
    "PROCESSED_DATA_DIR = Path(\"/Users/rosstaylor/Downloads/Research Project/Code Folder/Research Project - Geospatial Health Demand/data/processed/\")\n",
    "PROCESSED_DATA_DIR.mkdir(exist_ok=True) # Ensure the directory exists\n"
   ],
   "id": "b93f8fd32d460b28",
   "outputs": [],
   "execution_count": 13
  },
  {
   "metadata": {
    "ExecuteTime": {
     "end_time": "2025-06-18T14:54:09.105151Z",
     "start_time": "2025-06-18T14:54:08.727115Z"
    }
   },
   "cell_type": "code",
   "source": [
    "# --------------------------------------------------------------------\n",
    "# 2. LOAD, HARMONIZE, AND CONCATENATE ICB FILES\n",
    "# --------------------------------------------------------------------\n",
    "print(f\"\\nLooking for source files in: {RAW_DATA_DIR}\")\n",
    "\n",
    "# Find all GeoPackage files in the source directory\n",
    "icb_files = list(RAW_DATA_DIR.glob(\"*.gpkg\"))\n",
    "\n",
    "if not icb_files:\n",
    "    raise FileNotFoundError(f\"ERROR: No source files found in {RAW_DATA_DIR}. Please check the path.\")\n",
    "\n",
    "print(f\"Found {len(icb_files)} source files to process.\")\n",
    "\n",
    "harmonized_gdfs = []\n",
    "for file_path in icb_files:\n",
    "    print(f\"  - Processing {file_path.name}...\")\n",
    "    gdf = gpd.read_file(file_path)\n",
    "\n",
    "    # **UPDATED**: Add a column to track the origin file for better debugging\n",
    "    gdf['source_file'] = file_path.name\n",
    "\n",
    "    # Attribute Harmonisation\n",
    "    gdf.columns = [c.lower() for c in gdf.columns]\n",
    "    cols_to_rename = {k: v for k, v in RENAME_COLS.items() if k in gdf.columns}\n",
    "    gdf = gdf.rename(columns=cols_to_rename)\n",
    "\n",
    "    # CRS Uniformity\n",
    "    if gdf.crs != TARGET_CRS:\n",
    "        print(f\"    - Reprojecting from {gdf.crs} to {TARGET_CRS}\")\n",
    "        gdf = gdf.to_crs(TARGET_CRS)\n",
    "\n",
    "    harmonized_gdfs.append(gdf)\n",
    "\n",
    "# Concatenate into a single regional layer\n",
    "print(\"\\nConcatenating all harmonized files...\")\n",
    "lsoa_sw_raw = pd.concat(harmonized_gdfs, ignore_index=True)\n",
    "print(f\"✓ Raw concatenated layer created with {len(lsoa_sw_raw)} total records.\")\n",
    "\n"
   ],
   "id": "d442053da398ec30",
   "outputs": [
    {
     "name": "stdout",
     "output_type": "stream",
     "text": [
      "\n",
      "Looking for source files in: /Users/rosstaylor/Downloads/Research Project/Code Folder/Research Project - Geospatial Health Demand/data/processed/icb_split_enriched/audit_outputs\n",
      "Found 7 source files to process.\n",
      "  - Processing NHS_Dorset_Integrated_Care_Board_with_geom_enriched_tidy.gpkg...\n",
      "  - Processing NHS_Bristol_North_Somerset_and_South_Gloucestershire_Integrated_Care_Board_with_geom_enriched_tidy.gpkg...\n",
      "  - Processing NHS_Gloucestershire_Integrated_Care_Board_with_geom_enriched_tidy.gpkg...\n",
      "  - Processing NHS_Bath_and_North_East_Somerset_Swindon_and_Wiltshire_Integrated_Care_Board_with_geom_enriched_tidy.gpkg...\n",
      "  - Processing NHS_Cornwall_and_the_Isles_of_Scilly_Integrated_Care_Board_with_geom_enriched_tidy.gpkg...\n",
      "  - Processing NHS_Somerset_Integrated_Care_Board_with_geom_enriched_tidy.gpkg...\n",
      "  - Processing NHS_Devon_Integrated_Care_Board_with_geom_enriched_tidy.gpkg...\n",
      "\n",
      "Concatenating all harmonized files...\n",
      "✓ Raw concatenated layer created with 3410 total records.\n"
     ]
    }
   ],
   "execution_count": 14
  },
  {
   "metadata": {
    "ExecuteTime": {
     "end_time": "2025-06-18T14:54:21.455476Z",
     "start_time": "2025-06-18T14:54:21.428368Z"
    }
   },
   "cell_type": "code",
   "source": [
    "# --------------------------------------------------------------------\n",
    "# 3. INITIAL DATA VALIDATION\n",
    "# --------------------------------------------------------------------\n",
    "print(\"\\nPerforming initial data validation checks on raw data...\")\n",
    "\n",
    "# --- Hierarchy Integrity ---\n",
    "lsoa_in_msoa_check = lsoa_sw_raw.groupby('msoa')['lsoa'].nunique().sum()\n",
    "total_lsoas = lsoa_sw_raw['lsoa'].nunique()\n",
    "if lsoa_in_msoa_check == total_lsoas: print(\"✓ Hierarchy Test (LSOA->MSOA): PASSED\")\n",
    "else: print(f\"✗ Hierarchy Test (LSOA->MSOA): FAILED\")\n",
    "\n",
    "msoa_in_lad_check = lsoa_sw_raw.groupby('lad')['msoa'].nunique().sum()\n",
    "total_msoas = lsoa_sw_raw['msoa'].nunique()\n",
    "if msoa_in_lad_check == total_msoas: print(\"✓ Hierarchy Test (MSOA->LAD): PASSED\")\n",
    "else: print(f\"✗ Hierarchy Test (MSOA->LAD): FAILED\")\n",
    "\n",
    "# --- Edge Alignment ---\n",
    "duplicate_lsoa_count = lsoa_sw_raw['lsoa'].duplicated().sum()\n",
    "if duplicate_lsoa_count == 0: print(\"✓ Edge Alignment Test: PASSED\")\n",
    "else: print(f\"✗ Edge Alignment Test: FAILED. Found {duplicate_lsoa_count} duplicate LSOA records.\")\n",
    "\n"
   ],
   "id": "acfbf1eedb9f58a2",
   "outputs": [
    {
     "name": "stdout",
     "output_type": "stream",
     "text": [
      "\n",
      "Performing initial data validation checks on raw data...\n",
      "✓ Hierarchy Test (LSOA->MSOA): PASSED\n",
      "✓ Hierarchy Test (MSOA->LAD): PASSED\n",
      "✗ Edge Alignment Test: FAILED. Found 3 duplicate LSOA records.\n"
     ]
    }
   ],
   "execution_count": 15
  },
  {
   "metadata": {
    "ExecuteTime": {
     "end_time": "2025-06-18T14:54:31.924108Z",
     "start_time": "2025-06-18T14:54:31.568816Z"
    }
   },
   "cell_type": "code",
   "source": [
    "# --------------------------------------------------------------------\n",
    "# 4. **NEW**: DETECT AND FIX EDGE ALIGNMENT FAILURES\n",
    "# --------------------------------------------------------------------\n",
    "if duplicate_lsoa_count > 0:\n",
    "    print(\"\\nAttempting to fix edge alignment failures...\")\n",
    "\n",
    "    # Isolate and report on the codes causing issues\n",
    "    duplicate_codes = lsoa_sw_raw[lsoa_sw_raw.lsoa.duplicated(keep=False)]['lsoa'].unique()\n",
    "    print(f\"  - Found {len(duplicate_codes)} unique LSOA codes with split geometries: {list(duplicate_codes)}\")\n",
    "\n",
    "    # The dissolve operation merges the geometries for each LSOA code.\n",
    "    # 'aggfunc'='first' takes the attribute data from the first row encountered for each LSOA.\n",
    "    print(\"  - Merging split geometries by dissolving on 'lsoa' code...\")\n",
    "    lsoa_sw_fixed = lsoa_sw_raw.dissolve(by='lsoa', aggfunc='first').reset_index()\n",
    "\n",
    "    print(\"\\n--- Post-Fix Re-Validation ---\")\n",
    "    final_duplicates = lsoa_sw_fixed['lsoa'].duplicated().sum()\n",
    "    if final_duplicates == 0:\n",
    "        print(\"✓ SUCCESS: Edge Alignment Test now PASSES.\")\n",
    "        print(f\"  - Original row count: {len(lsoa_sw_raw)}\")\n",
    "        print(f\"  - Corrected row count: {len(lsoa_sw_fixed)}\")\n",
    "    else:\n",
    "        raise Exception(\"FATAL: Fixing duplicates failed. Manual review required.\")\n",
    "else:\n",
    "    print(\"\\nNo edge alignment issues found. No correction needed.\")\n",
    "    # If no fix was needed, the 'fixed' version is just a copy of the raw version\n",
    "    lsoa_sw_fixed = lsoa_sw_raw.copy()"
   ],
   "id": "7c853eb98b7c9111",
   "outputs": [
    {
     "name": "stdout",
     "output_type": "stream",
     "text": [
      "\n",
      "Attempting to fix edge alignment failures...\n",
      "  - Found 3 unique LSOA codes with split geometries: ['E01034378', 'E01034858', 'E01035107']\n",
      "  - Merging split geometries by dissolving on 'lsoa' code...\n",
      "\n",
      "--- Post-Fix Re-Validation ---\n",
      "✓ SUCCESS: Edge Alignment Test now PASSES.\n",
      "  - Original row count: 3410\n",
      "  - Corrected row count: 3407\n"
     ]
    }
   ],
   "execution_count": 16
  },
  {
   "metadata": {
    "ExecuteTime": {
     "end_time": "2025-06-18T15:06:56.473632Z",
     "start_time": "2025-06-18T15:06:46.979175Z"
    }
   },
   "cell_type": "code",
   "source": [
    "# --------------------------------------------------------------------\n",
    "# 5. CREATE AND SAVE FINAL CLEAN LAYERS\n",
    "# --------------------------------------------------------------------\n",
    "print(\"\\nCreating final dissolved layers from clean, corrected data...\")\n",
    "\n",
    "# Use the 'lsoa_sw_fixed' dataframe as the source of truth\n",
    "# This is the corrected line for 08c\n",
    "final_cols = [\n",
    "    'lsoa', 'lsoa_name', 'msoa', 'msoa_name', 'lad', 'lad_name',\n",
    "    'urban_rural', 'imd_rank', 'geometry'\n",
    "]\n",
    "final_cols_exist = [c for c in final_cols if c in lsoa_sw_fixed.columns]\n",
    "lsoa_final = lsoa_sw_fixed[final_cols_exist].sort_values('lsoa')\n",
    "\n",
    "# Dissolve LSOA -> MSOA\n",
    "msoa_final = (\n",
    "    lsoa_final\n",
    "    .dissolve(by=\"msoa\", as_index=False, aggfunc=\"first\")\n",
    "    .sort_values(\"msoa\")\n",
    ")\n",
    "\n",
    "# Dissolve LSOA -> LAD\n",
    "lad_final = (\n",
    "    lsoa_final\n",
    "    .dissolve(by=\"lad\", as_index=False, aggfunc=\"first\")\n",
    "    .sort_values(\"lad\")\n",
    ")\n",
    "\n",
    "print(f\"Final layer shapes: LSOA({lsoa_final.shape}), MSOA({msoa_final.shape}), LAD({lad_final.shape})\")\n",
    "\n",
    "# --- Save to GeoPackage Files ---\n",
    "print(\"\\nSaving final layers to separate GeoPackage files...\")\n",
    "lsoa_out_path = PROCESSED_DATA_DIR / \"southwest_lsoa.gpkg\"\n",
    "msoa_out_path = PROCESSED_DATA_DIR / \"southwest_msoa.gpkg\"\n",
    "lad_out_path = PROCESSED_DATA_DIR / \"southwest_lad.gpkg\"\n",
    "\n",
    "lsoa_final.to_file(lsoa_out_path, driver=\"GPKG\")\n",
    "msoa_final.to_file(msoa_out_path, driver=\"GPKG\")\n",
    "lad_final.to_file(lad_out_path, driver=\"GPKG\")\n",
    "\n",
    "print(f\"✓ Saved LSOA layer to: {lsoa_out_path}\")\n",
    "print(f\"✓ Saved MSOA layer to: {msoa_out_path}\")\n",
    "print(f\"✓ Saved LAD layer to: {lad_out_path}\")\n",
    "print(\"\\nProcess complete.\")"
   ],
   "id": "f1f317370151368f",
   "outputs": [
    {
     "name": "stdout",
     "output_type": "stream",
     "text": [
      "\n",
      "Creating final dissolved layers from clean, corrected data...\n",
      "Final layer shapes: LSOA((3407, 8)), MSOA((711, 8)), LAD((28, 8))\n",
      "\n",
      "Saving final layers to separate GeoPackage files...\n",
      "✓ Saved LSOA layer to: /Users/rosstaylor/Downloads/Research Project/Code Folder/Research Project - Geospatial Health Demand/data/processed/southwest_lsoa.gpkg\n",
      "✓ Saved MSOA layer to: /Users/rosstaylor/Downloads/Research Project/Code Folder/Research Project - Geospatial Health Demand/data/processed/southwest_msoa.gpkg\n",
      "✓ Saved LAD layer to: /Users/rosstaylor/Downloads/Research Project/Code Folder/Research Project - Geospatial Health Demand/data/processed/southwest_lad.gpkg\n",
      "\n",
      "Process complete.\n"
     ]
    }
   ],
   "execution_count": 18
  }
 ],
 "metadata": {
  "kernelspec": {
   "display_name": "Python 3",
   "language": "python",
   "name": "python3"
  },
  "language_info": {
   "codemirror_mode": {
    "name": "ipython",
    "version": 2
   },
   "file_extension": ".py",
   "mimetype": "text/x-python",
   "name": "python",
   "nbconvert_exporter": "python",
   "pygments_lexer": "ipython2",
   "version": "2.7.6"
  }
 },
 "nbformat": 4,
 "nbformat_minor": 5
}
