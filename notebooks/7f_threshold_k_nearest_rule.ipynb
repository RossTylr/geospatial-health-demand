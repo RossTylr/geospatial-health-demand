{
 "cells": [
  {
   "cell_type": "markdown",
   "id": "1f72dffc",
   "metadata": {},
   "source": [
    "# 7f – Threshold / K‑nearest rule\n",
    "\n",
    "Assign each spoke to its closest hub **only if the hub lies within `THRESH_KM`** (default 40 km); otherwise mark as ‘unassigned’ to flag coverage gaps."
   ]
  },
  {
   "cell_type": "code",
   "execution_count": null,
   "id": "ce38703a",
   "metadata": {},
   "outputs": [],
   "source": [
    "import math\n",
    "\n",
    "import pandas as pd, math\n",
    "from pathlib import Path\n",
    "\n",
    "DATA_DIR = Path('.')\n",
    "ACUTE_CSV = DATA_DIR / 'NHS_SW_Acute_Hospitals_enriched.csv'\n",
    "CDC_CSV   = DATA_DIR / 'NHS_SW_Community_Diagnostic_Centres_enriched.csv'\n",
    "CH_CSV    = DATA_DIR / 'NHS_SW_Community_Hospitals_enriched.csv'\n",
    "R_EARTH = 6371\n",
    "\n",
    "def haversine(lat1, lon1, lat2, lon2):\n",
    "    φ1, λ1, φ2, λ2 = map(math.radians, (lat1, lon1, lat2, lon2))\n",
    "    dφ, dλ = φ2 - φ1, λ2 - λ1\n",
    "    a = math.sin(dφ/2)**2 + math.cos(φ1)*math.cos(φ2)*math.sin(dλ/2)**2\n",
    "    return 2 * R_EARTH * math.atan2(math.sqrt(a), math.sqrt(1-a))\n",
    "\n",
    "THRESH_KM = 40\n",
    "\n",
    "acute = pd.read_csv(ACUTE_CSV)\n",
    "spokes = pd.concat([pd.read_csv(CDC_CSV), pd.read_csv(CH_CSV)], ignore_index=True)\n",
    "\n",
    "def label_within_threshold(row):\n",
    "    dists = acute.apply(lambda hub: haversine(row.latitude, row.longitude,\n",
    "                                              hub.latitude, hub.longitude), axis=1)\n",
    "    min_dist = dists.min()\n",
    "    if min_dist <= THRESH_KM:\n",
    "        return acute.loc[dists.idxmin(), 'Name']\n",
    "    return None\n",
    "\n",
    "spokes['nearest_acute'] = spokes.apply(label_within_threshold, axis=1)\n",
    "spokes['dist_km'] = spokes.apply(\n",
    "    lambda r: math.inf if r.nearest_acute is None else\n",
    "    haversine(r.latitude, r.longitude,\n",
    "              acute.loc[acute.Name == r.nearest_acute, 'latitude'].values[0],\n",
    "              acute.loc[acute.Name == r.nearest_acute, 'longitude'].values[0]),\n",
    "    axis=1)\n",
    "\n",
    "spokes.head()"
   ]
  }
 ],
 "metadata": {},
 "nbformat": 4,
 "nbformat_minor": 5
}
